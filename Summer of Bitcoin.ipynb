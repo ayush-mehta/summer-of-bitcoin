{
 "metadata": {
  "language_info": {
   "codemirror_mode": {
    "name": "ipython",
    "version": 3
   },
   "file_extension": ".py",
   "mimetype": "text/x-python",
   "name": "python",
   "nbconvert_exporter": "python",
   "pygments_lexer": "ipython3",
   "version": "3.8.2"
  },
  "orig_nbformat": 2,
  "kernelspec": {
   "name": "python382jvsc74a57bd031f2aee4e71d21fbe5cf8b01ff0e069b9275f58929596ceb00d14d90e3e16cd6",
   "display_name": "Python 3.8.2 64-bit"
  },
  "metadata": {
   "interpreter": {
    "hash": "31f2aee4e71d21fbe5cf8b01ff0e069b9275f58929596ceb00d14d90e3e16cd6"
   }
  }
 },
 "nbformat": 4,
 "nbformat_minor": 2,
 "cells": [
  {
   "source": [
    "# Summer of Bitcoin Coding Challenge\n",
    "The problem has been broken down into 4 major steps which is followed by an observation regarding the algorithm used at the end."
   ],
   "cell_type": "markdown",
   "metadata": {}
  },
  {
   "source": [
    "## Step1\n",
    "Read the file into a dataframe using pandas module and store the minimum weight in a variable `min_wt`"
   ],
   "cell_type": "markdown",
   "metadata": {}
  },
  {
   "cell_type": "code",
   "execution_count": 246,
   "metadata": {},
   "outputs": [],
   "source": [
    "import pandas as pd\n",
    "data  = pd.read_csv(\"mempool.csv\")\n",
    "data['parents'] = data['parents ']\n",
    "data.drop(['parents '], axis = 1)\n",
    "min_wt = data['weight'].min()"
   ]
  },
  {
   "source": [
    "## Step 2\n",
    "Add a new parameter in dataframe which is equal to fee and weight ratio and sort it accordingly. The reason behind taking fee/weight ratio is that we want to maximise fee keeping wieght minimum, therefore we will sort the dataframe in descending order of fee/weight ratio"
   ],
   "cell_type": "markdown",
   "metadata": {}
  },
  {
   "cell_type": "code",
   "execution_count": 247,
   "metadata": {},
   "outputs": [],
   "source": [
    "data[\"fee/weight\"] = data[\"fee\"] / data[\"weight\"]\n",
    "data = data.sort_values('fee/weight', ascending = False)\n",
    "data.reset_index(inplace=True)\n",
    "data = data.drop(['index'], axis = 1)"
   ]
  },
  {
   "source": [
    "## Step 3\n",
    "Now we have a sorted dataframe, the first element has maximum fee to weight ratio. Now one by one we will check that if the transaction is valid or not in from top to bottom order (i.e that its parents are already in block if they exists and its weight is less than the difference between current block weight and the maximum block weight). If it is a valid transaction then we will delete it from the data frame and add it to a list called `blockdata` and deleted from the dataframe and if it is not valid then we will first check that the difference (between current block weight and maximum block weight) is greater than the `min_wt`, if it is true then we will move to the next transaction and check for it and if not then we break the loop."
   ],
   "cell_type": "markdown",
   "metadata": {}
  },
  {
   "cell_type": "code",
   "execution_count": 248,
   "metadata": {},
   "outputs": [],
   "source": [
    "blockdata = list()\n",
    "total_fee = 0\n",
    "total_wt = 0\n",
    "max_wt = 4000000\n",
    "i = 0"
   ]
  },
  {
   "source": [
    "The folowing function checks that whether the parents of the given transaction are present in the block or not."
   ],
   "cell_type": "markdown",
   "metadata": {}
  },
  {
   "cell_type": "code",
   "execution_count": 249,
   "metadata": {},
   "outputs": [],
   "source": [
    "def check_trn(index):\n",
    "    parents = str(data['parents'][index])\n",
    "    if (parents == 'nan'):\n",
    "        return True\n",
    "    data['parents'][index].split(';')\n",
    "    for parent in parents:\n",
    "        if parent in blockdata:\n",
    "            return False\n",
    "    return True"
   ]
  },
  {
   "cell_type": "code",
   "execution_count": 250,
   "metadata": {},
   "outputs": [],
   "source": [
    "def check_wt(index):\n",
    "    wt = data['weight'][index]\n",
    "    if max_wt - total_wt > wt:\n",
    "        return True\n",
    "    return False"
   ]
  },
  {
   "cell_type": "code",
   "execution_count": 251,
   "metadata": {},
   "outputs": [
    {
     "output_type": "execute_result",
     "data": {
      "text/plain": [
       "5214"
      ]
     },
     "metadata": {},
     "execution_count": 251
    }
   ],
   "source": [
    "len(data.axes[0])"
   ]
  },
  {
   "cell_type": "code",
   "execution_count": 252,
   "metadata": {},
   "outputs": [],
   "source": [
    "while(i < len(data.axes[0])):\n",
    "    if check_wt(i) and check_trn(i):\n",
    "        blockdata.append(str(data['tx_id'][i]))\n",
    "        total_fee += data['fee'][i]\n",
    "        total_wt += data['weight'][i]\n",
    "        data = data.drop(i)\n",
    "        data = data.reset_index(drop=True)\n",
    "        i = 0\n",
    "    elif max_wt - total_wt < min_wt:\n",
    "        break\n",
    "    else:\n",
    "        i += 1"
   ]
  },
  {
   "cell_type": "code",
   "execution_count": 253,
   "metadata": {},
   "outputs": [
    {
     "output_type": "execute_result",
     "data": {
      "text/plain": [
       "3999784"
      ]
     },
     "metadata": {},
     "execution_count": 253
    }
   ],
   "source": [
    "total_wt"
   ]
  },
  {
   "cell_type": "code",
   "execution_count": 254,
   "metadata": {},
   "outputs": [
    {
     "output_type": "execute_result",
     "data": {
      "text/plain": [
       "5817973"
      ]
     },
     "metadata": {},
     "execution_count": 254
    }
   ],
   "source": [
    "total_fee"
   ]
  },
  {
   "source": [
    "## Step 4\n",
    "Now `blockdata` contains all the trasactions. we will create a file named `block.txt` and store the data inside it."
   ],
   "cell_type": "markdown",
   "metadata": {}
  },
  {
   "cell_type": "code",
   "execution_count": 255,
   "metadata": {},
   "outputs": [
    {
     "output_type": "execute_result",
     "data": {
      "text/plain": [
       "<function TextIOWrapper.close()>"
      ]
     },
     "metadata": {},
     "execution_count": 255
    }
   ],
   "source": [
    "block = open('block.txt', 'w')\n",
    "for trn in blockdata:\n",
    "    block.write(trn + '\\n')\n",
    "block.close"
   ]
  },
  {
   "source": [
    "# An Observation\n",
    "The Algorithm that I used is not the optimum solution of the problem, there are many such cases in which it won't maximise the fee one of the case is as follows:  \n",
    "Let the `tx_id` be `x`, `y` and `z` with following fees and weights, you are given that the maximum weight is 30 units and none of the transactions have a parent transaction "
   ],
   "cell_type": "markdown",
   "metadata": {}
  },
  {
   "cell_type": "code",
   "execution_count": 256,
   "metadata": {},
   "outputs": [
    {
     "output_type": "execute_result",
     "data": {
      "text/plain": [
       "  tx_id  fee  weight  fee/weight\n",
       "0     x   15      10         1.5\n",
       "1     y   20      20         1.0\n",
       "2     z   30      30         1.0"
      ],
      "text/html": "<div>\n<style scoped>\n    .dataframe tbody tr th:only-of-type {\n        vertical-align: middle;\n    }\n\n    .dataframe tbody tr th {\n        vertical-align: top;\n    }\n\n    .dataframe thead th {\n        text-align: right;\n    }\n</style>\n<table border=\"1\" class=\"dataframe\">\n  <thead>\n    <tr style=\"text-align: right;\">\n      <th></th>\n      <th>tx_id</th>\n      <th>fee</th>\n      <th>weight</th>\n      <th>fee/weight</th>\n    </tr>\n  </thead>\n  <tbody>\n    <tr>\n      <th>0</th>\n      <td>x</td>\n      <td>15</td>\n      <td>10</td>\n      <td>1.5</td>\n    </tr>\n    <tr>\n      <th>1</th>\n      <td>y</td>\n      <td>20</td>\n      <td>20</td>\n      <td>1.0</td>\n    </tr>\n    <tr>\n      <th>2</th>\n      <td>z</td>\n      <td>30</td>\n      <td>30</td>\n      <td>1.0</td>\n    </tr>\n  </tbody>\n</table>\n</div>"
     },
     "metadata": {},
     "execution_count": 256
    }
   ],
   "source": [
    "test = pd.DataFrame([['x', 15, 10, 1.5], ['y', 20, 20, 1], ['z', 30, 30, 1]], columns=['tx_id', 'fee', 'weight', 'fee/weight'])\n",
    "test"
   ]
  },
  {
   "source": [
    "According to my algorithm the block would only contain `x` as it has maximum `fee/weight` ratio but it only provides with 15 units of fees while on the other hand `y` and `z` both are better choice for maximising the `fee` as compared to `x`. I could not come up with an algorithm that accounts for these cases and provide a guaranteed maximum fee."
   ],
   "cell_type": "markdown",
   "metadata": {}
  },
  {
   "cell_type": "code",
   "execution_count": null,
   "metadata": {},
   "outputs": [],
   "source": []
  }
 ]
}